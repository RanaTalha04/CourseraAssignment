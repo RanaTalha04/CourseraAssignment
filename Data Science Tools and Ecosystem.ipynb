{
  "metadata": {
    "kernelspec": {
      "name": "xpython",
      "display_name": "Python 3.13 (XPython)",
      "language": "python"
    },
    "language_info": {
      "file_extension": ".py",
      "mimetype": "text/x-python",
      "name": "python",
      "version": "3.13.1"
    }
  },
  "nbformat_minor": 5,
  "nbformat": 4,
  "cells": [
    {
      "id": "7d9f306b-b826-4ba2-b4de-521076686a54",
      "cell_type": "markdown",
      "source": "# Data Science Tools and Ecosystem",
      "metadata": {}
    },
    {
      "id": "46fcd0d6-1b42-4e62-b88c-1d0ade717182",
      "cell_type": "markdown",
      "source": "In this notebook, Data Science Tools and Ecosystem are summarized.",
      "metadata": {}
    },
    {
      "id": "9c6992ea-e131-484f-9367-28ee522a4eaf",
      "cell_type": "markdown",
      "source": "Some of the popular languages that Data Scientists use are:\n1. R\n2. Python\n3. Java",
      "metadata": {}
    },
    {
      "id": "15b8cf0a-d1bd-4b27-b329-9da8d467d904",
      "cell_type": "markdown",
      "source": "Some of the commonly used libraries used by Data Scientists include:\n1. Numpy\n2. Pandas\n3. Matplotlib",
      "metadata": {}
    },
    {
      "id": "22c55bf8-1c1d-4301-a21e-57f15a8352a4",
      "cell_type": "markdown",
      "source": "| Data Science Tools ||\n| -------------| ------ |\n| Jupyter Notebook|\n| VS code|\n| Anaconda|",
      "metadata": {}
    },
    {
      "id": "bee1100c-9262-40af-877f-7d00220f8c65",
      "cell_type": "markdown",
      "source": "### Below are a few examples of evaluating arithmetic expressions in Python",
      "metadata": {}
    },
    {
      "id": "33c72214-c563-4168-bf08-746da4c80e27",
      "cell_type": "code",
      "source": "#  This a simple arithmetic expression to mutiply then add integers\n(3*4)+5",
      "metadata": {
        "trusted": true
      },
      "outputs": [
        {
          "execution_count": 1,
          "output_type": "execute_result",
          "data": {
            "text/plain": "17"
          },
          "metadata": {}
        }
      ],
      "execution_count": 1
    },
    {
      "id": "bce6d35b-d5d7-49bf-b4d8-879df4c60284",
      "cell_type": "code",
      "source": "# This will convert 200 minutes to hours by diving by 60\nhours = 200 / 60\nhours",
      "metadata": {
        "trusted": true
      },
      "outputs": [
        {
          "execution_count": 2,
          "output_type": "execute_result",
          "data": {
            "text/plain": "3.3333333333333335"
          },
          "metadata": {}
        }
      ],
      "execution_count": 2
    },
    {
      "id": "aad354da-7c6f-44ab-9490-bd81162bb296",
      "cell_type": "markdown",
      "source": "***Objectives:***\n- Python\n- R\n- C++\n",
      "metadata": {}
    },
    {
      "id": "7c926253-5c65-4035-a14c-267c179f16fa",
      "cell_type": "markdown",
      "source": "## Author\nRana Muhammad Talha",
      "metadata": {}
    }
  ]
}